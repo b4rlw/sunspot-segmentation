{
 "cells": [
  {
   "cell_type": "code",
   "execution_count": 2,
   "metadata": {
    "tags": []
   },
   "outputs": [
    {
     "name": "stdout",
     "output_type": "stream",
     "text": [
      "The kedro.ipython extension is already loaded. To reload it, use:\n",
      "  %reload_ext kedro.ipython\n"
     ]
    },
    {
     "data": {
      "text/html": [
       "<pre style=\"white-space:pre;overflow-x:auto;line-height:normal;font-family:Menlo,'DejaVu Sans Mono',consolas,'Courier New',monospace\"><span style=\"color: #7fbfbf; text-decoration-color: #7fbfbf\">[11/14/22 16:34:29] </span><span style=\"color: #000080; text-decoration-color: #000080\">INFO    </span> Updated path to Kedro project: <span style=\"color: #800080; text-decoration-color: #800080\">/Users/jordan/repos/</span><span style=\"color: #ff00ff; text-decoration-color: #ff00ff\">sunspots</span>             <a href=\"file:///usr/local/Caskroom/mambaforge/base/envs/sunspots/lib/python3.10/site-packages/kedro/ipython/__init__.py\" target=\"_blank\"><span style=\"color: #7f7f7f; text-decoration-color: #7f7f7f\">__init__.py</span></a><span style=\"color: #7f7f7f; text-decoration-color: #7f7f7f\">:</span><a href=\"file:///usr/local/Caskroom/mambaforge/base/envs/sunspots/lib/python3.10/site-packages/kedro/ipython/__init__.py#54\" target=\"_blank\"><span style=\"color: #7f7f7f; text-decoration-color: #7f7f7f\">54</span></a>\n",
       "</pre>\n"
      ],
      "text/plain": [
       "\u001b[2;36m[11/14/22 16:34:29]\u001b[0m\u001b[2;36m \u001b[0m\u001b[34mINFO    \u001b[0m Updated path to Kedro project: \u001b[35m/Users/jordan/repos/\u001b[0m\u001b[95msunspots\u001b[0m             \u001b]8;id=346319;file:///usr/local/Caskroom/mambaforge/base/envs/sunspots/lib/python3.10/site-packages/kedro/ipython/__init__.py\u001b\\\u001b[2m__init__.py\u001b[0m\u001b]8;;\u001b\\\u001b[2m:\u001b[0m\u001b]8;id=936024;file:///usr/local/Caskroom/mambaforge/base/envs/sunspots/lib/python3.10/site-packages/kedro/ipython/__init__.py#54\u001b\\\u001b[2m54\u001b[0m\u001b]8;;\u001b\\\n"
      ]
     },
     "metadata": {},
     "output_type": "display_data"
    },
    {
     "data": {
      "text/html": [
       "<pre style=\"white-space:pre;overflow-x:auto;line-height:normal;font-family:Menlo,'DejaVu Sans Mono',consolas,'Courier New',monospace\"><span style=\"color: #7fbfbf; text-decoration-color: #7fbfbf\">[11/14/22 16:34:30] </span><span style=\"color: #000080; text-decoration-color: #000080\">INFO    </span> Project path: <span style=\"color: #800080; text-decoration-color: #800080\">/Users/jordan/repos/</span><span style=\"color: #ff00ff; text-decoration-color: #ff00ff\">sunspots</span>                                 <a href=\"file:///Users/jordan/repos/sunspots/src/sunspots/hooks.py\" target=\"_blank\"><span style=\"color: #7f7f7f; text-decoration-color: #7f7f7f\">hooks.py</span></a><span style=\"color: #7f7f7f; text-decoration-color: #7f7f7f\">:</span><a href=\"file:///Users/jordan/repos/sunspots/src/sunspots/hooks.py#19\" target=\"_blank\"><span style=\"color: #7f7f7f; text-decoration-color: #7f7f7f\">19</span></a>\n",
       "</pre>\n"
      ],
      "text/plain": [
       "\u001b[2;36m[11/14/22 16:34:30]\u001b[0m\u001b[2;36m \u001b[0m\u001b[34mINFO    \u001b[0m Project path: \u001b[35m/Users/jordan/repos/\u001b[0m\u001b[95msunspots\u001b[0m                                 \u001b]8;id=518288;file:///Users/jordan/repos/sunspots/src/sunspots/hooks.py\u001b\\\u001b[2mhooks.py\u001b[0m\u001b]8;;\u001b\\\u001b[2m:\u001b[0m\u001b]8;id=307932;file:///Users/jordan/repos/sunspots/src/sunspots/hooks.py#19\u001b\\\u001b[2m19\u001b[0m\u001b]8;;\u001b\\\n"
      ]
     },
     "metadata": {},
     "output_type": "display_data"
    },
    {
     "data": {
      "text/html": [
       "<pre style=\"white-space:pre;overflow-x:auto;line-height:normal;font-family:Menlo,'DejaVu Sans Mono',consolas,'Courier New',monospace\"><span style=\"color: #7fbfbf; text-decoration-color: #7fbfbf\">                    </span><span style=\"color: #000080; text-decoration-color: #000080\">INFO    </span> Loading data from <span style=\"color: #008000; text-decoration-color: #008000\">'params:datasets'</span> <span style=\"font-weight: bold\">(</span>MemoryDataSet<span style=\"font-weight: bold\">)</span><span style=\"color: #808000; text-decoration-color: #808000\">...</span>             <a href=\"file:///usr/local/Caskroom/mambaforge/base/envs/sunspots/lib/python3.10/site-packages/kedro/io/data_catalog.py\" target=\"_blank\"><span style=\"color: #7f7f7f; text-decoration-color: #7f7f7f\">data_catalog.py</span></a><span style=\"color: #7f7f7f; text-decoration-color: #7f7f7f\">:</span><a href=\"file:///usr/local/Caskroom/mambaforge/base/envs/sunspots/lib/python3.10/site-packages/kedro/io/data_catalog.py#343\" target=\"_blank\"><span style=\"color: #7f7f7f; text-decoration-color: #7f7f7f\">343</span></a>\n",
       "</pre>\n"
      ],
      "text/plain": [
       "\u001b[2;36m                   \u001b[0m\u001b[2;36m \u001b[0m\u001b[34mINFO    \u001b[0m Loading data from \u001b[32m'params:datasets'\u001b[0m \u001b[1m(\u001b[0mMemoryDataSet\u001b[1m)\u001b[0m\u001b[33m...\u001b[0m             \u001b]8;id=458194;file:///usr/local/Caskroom/mambaforge/base/envs/sunspots/lib/python3.10/site-packages/kedro/io/data_catalog.py\u001b\\\u001b[2mdata_catalog.py\u001b[0m\u001b]8;;\u001b\\\u001b[2m:\u001b[0m\u001b]8;id=29991;file:///usr/local/Caskroom/mambaforge/base/envs/sunspots/lib/python3.10/site-packages/kedro/io/data_catalog.py#343\u001b\\\u001b[2m343\u001b[0m\u001b]8;;\u001b\\\n"
      ]
     },
     "metadata": {},
     "output_type": "display_data"
    },
    {
     "data": {
      "text/html": [
       "<pre style=\"white-space:pre;overflow-x:auto;line-height:normal;font-family:Menlo,'DejaVu Sans Mono',consolas,'Courier New',monospace\"><span style=\"color: #7fbfbf; text-decoration-color: #7fbfbf\">                    </span><span style=\"color: #000080; text-decoration-color: #000080\">INFO    </span> Added dataset <span style=\"color: #008000; text-decoration-color: #008000\">'20140130_timeseries'</span> to the data catalog.                   <a href=\"file:///Users/jordan/repos/sunspots/src/sunspots/hooks.py\" target=\"_blank\"><span style=\"color: #7f7f7f; text-decoration-color: #7f7f7f\">hooks.py</span></a><span style=\"color: #7f7f7f; text-decoration-color: #7f7f7f\">:</span><a href=\"file:///Users/jordan/repos/sunspots/src/sunspots/hooks.py#40\" target=\"_blank\"><span style=\"color: #7f7f7f; text-decoration-color: #7f7f7f\">40</span></a>\n",
       "</pre>\n"
      ],
      "text/plain": [
       "\u001b[2;36m                   \u001b[0m\u001b[2;36m \u001b[0m\u001b[34mINFO    \u001b[0m Added dataset \u001b[32m'20140130_timeseries'\u001b[0m to the data catalog.                   \u001b]8;id=630777;file:///Users/jordan/repos/sunspots/src/sunspots/hooks.py\u001b\\\u001b[2mhooks.py\u001b[0m\u001b]8;;\u001b\\\u001b[2m:\u001b[0m\u001b]8;id=706635;file:///Users/jordan/repos/sunspots/src/sunspots/hooks.py#40\u001b\\\u001b[2m40\u001b[0m\u001b]8;;\u001b\\\n"
      ]
     },
     "metadata": {},
     "output_type": "display_data"
    },
    {
     "data": {
      "text/html": [
       "<pre style=\"white-space:pre;overflow-x:auto;line-height:normal;font-family:Menlo,'DejaVu Sans Mono',consolas,'Courier New',monospace\"><span style=\"color: #7fbfbf; text-decoration-color: #7fbfbf\">                    </span><span style=\"color: #000080; text-decoration-color: #000080\">INFO    </span> Added dataset <span style=\"color: #008000; text-decoration-color: #008000\">'20140130_targets'</span> to the data catalog.                      <a href=\"file:///Users/jordan/repos/sunspots/src/sunspots/hooks.py\" target=\"_blank\"><span style=\"color: #7f7f7f; text-decoration-color: #7f7f7f\">hooks.py</span></a><span style=\"color: #7f7f7f; text-decoration-color: #7f7f7f\">:</span><a href=\"file:///Users/jordan/repos/sunspots/src/sunspots/hooks.py#53\" target=\"_blank\"><span style=\"color: #7f7f7f; text-decoration-color: #7f7f7f\">53</span></a>\n",
       "</pre>\n"
      ],
      "text/plain": [
       "\u001b[2;36m                   \u001b[0m\u001b[2;36m \u001b[0m\u001b[34mINFO    \u001b[0m Added dataset \u001b[32m'20140130_targets'\u001b[0m to the data catalog.                      \u001b]8;id=51919;file:///Users/jordan/repos/sunspots/src/sunspots/hooks.py\u001b\\\u001b[2mhooks.py\u001b[0m\u001b]8;;\u001b\\\u001b[2m:\u001b[0m\u001b]8;id=974898;file:///Users/jordan/repos/sunspots/src/sunspots/hooks.py#53\u001b\\\u001b[2m53\u001b[0m\u001b]8;;\u001b\\\n"
      ]
     },
     "metadata": {},
     "output_type": "display_data"
    },
    {
     "data": {
      "text/html": [
       "<pre style=\"white-space:pre;overflow-x:auto;line-height:normal;font-family:Menlo,'DejaVu Sans Mono',consolas,'Courier New',monospace\"><span style=\"color: #7fbfbf; text-decoration-color: #7fbfbf\">                    </span><span style=\"color: #000080; text-decoration-color: #000080\">INFO    </span> Added dataset <span style=\"color: #008000; text-decoration-color: #008000\">'20140130_region_submaps'</span> to the data catalog.               <a href=\"file:///Users/jordan/repos/sunspots/src/sunspots/hooks.py\" target=\"_blank\"><span style=\"color: #7f7f7f; text-decoration-color: #7f7f7f\">hooks.py</span></a><span style=\"color: #7f7f7f; text-decoration-color: #7f7f7f\">:</span><a href=\"file:///Users/jordan/repos/sunspots/src/sunspots/hooks.py#40\" target=\"_blank\"><span style=\"color: #7f7f7f; text-decoration-color: #7f7f7f\">40</span></a>\n",
       "</pre>\n"
      ],
      "text/plain": [
       "\u001b[2;36m                   \u001b[0m\u001b[2;36m \u001b[0m\u001b[34mINFO    \u001b[0m Added dataset \u001b[32m'20140130_region_submaps'\u001b[0m to the data catalog.               \u001b]8;id=918945;file:///Users/jordan/repos/sunspots/src/sunspots/hooks.py\u001b\\\u001b[2mhooks.py\u001b[0m\u001b]8;;\u001b\\\u001b[2m:\u001b[0m\u001b]8;id=836494;file:///Users/jordan/repos/sunspots/src/sunspots/hooks.py#40\u001b\\\u001b[2m40\u001b[0m\u001b]8;;\u001b\\\n"
      ]
     },
     "metadata": {},
     "output_type": "display_data"
    },
    {
     "data": {
      "text/html": [
       "<pre style=\"white-space:pre;overflow-x:auto;line-height:normal;font-family:Menlo,'DejaVu Sans Mono',consolas,'Courier New',monospace\"><span style=\"color: #7fbfbf; text-decoration-color: #7fbfbf\">                    </span><span style=\"color: #000080; text-decoration-color: #000080\">INFO    </span> Added dataset <span style=\"color: #008000; text-decoration-color: #008000\">'20140212_timeseries'</span> to the data catalog.                   <a href=\"file:///Users/jordan/repos/sunspots/src/sunspots/hooks.py\" target=\"_blank\"><span style=\"color: #7f7f7f; text-decoration-color: #7f7f7f\">hooks.py</span></a><span style=\"color: #7f7f7f; text-decoration-color: #7f7f7f\">:</span><a href=\"file:///Users/jordan/repos/sunspots/src/sunspots/hooks.py#40\" target=\"_blank\"><span style=\"color: #7f7f7f; text-decoration-color: #7f7f7f\">40</span></a>\n",
       "</pre>\n"
      ],
      "text/plain": [
       "\u001b[2;36m                   \u001b[0m\u001b[2;36m \u001b[0m\u001b[34mINFO    \u001b[0m Added dataset \u001b[32m'20140212_timeseries'\u001b[0m to the data catalog.                   \u001b]8;id=550082;file:///Users/jordan/repos/sunspots/src/sunspots/hooks.py\u001b\\\u001b[2mhooks.py\u001b[0m\u001b]8;;\u001b\\\u001b[2m:\u001b[0m\u001b]8;id=697123;file:///Users/jordan/repos/sunspots/src/sunspots/hooks.py#40\u001b\\\u001b[2m40\u001b[0m\u001b]8;;\u001b\\\n"
      ]
     },
     "metadata": {},
     "output_type": "display_data"
    },
    {
     "data": {
      "text/html": [
       "<pre style=\"white-space:pre;overflow-x:auto;line-height:normal;font-family:Menlo,'DejaVu Sans Mono',consolas,'Courier New',monospace\"><span style=\"color: #7fbfbf; text-decoration-color: #7fbfbf\">                    </span><span style=\"color: #000080; text-decoration-color: #000080\">INFO    </span> Added dataset <span style=\"color: #008000; text-decoration-color: #008000\">'20140212_targets'</span> to the data catalog.                      <a href=\"file:///Users/jordan/repos/sunspots/src/sunspots/hooks.py\" target=\"_blank\"><span style=\"color: #7f7f7f; text-decoration-color: #7f7f7f\">hooks.py</span></a><span style=\"color: #7f7f7f; text-decoration-color: #7f7f7f\">:</span><a href=\"file:///Users/jordan/repos/sunspots/src/sunspots/hooks.py#53\" target=\"_blank\"><span style=\"color: #7f7f7f; text-decoration-color: #7f7f7f\">53</span></a>\n",
       "</pre>\n"
      ],
      "text/plain": [
       "\u001b[2;36m                   \u001b[0m\u001b[2;36m \u001b[0m\u001b[34mINFO    \u001b[0m Added dataset \u001b[32m'20140212_targets'\u001b[0m to the data catalog.                      \u001b]8;id=880946;file:///Users/jordan/repos/sunspots/src/sunspots/hooks.py\u001b\\\u001b[2mhooks.py\u001b[0m\u001b]8;;\u001b\\\u001b[2m:\u001b[0m\u001b]8;id=983719;file:///Users/jordan/repos/sunspots/src/sunspots/hooks.py#53\u001b\\\u001b[2m53\u001b[0m\u001b]8;;\u001b\\\n"
      ]
     },
     "metadata": {},
     "output_type": "display_data"
    },
    {
     "data": {
      "text/html": [
       "<pre style=\"white-space:pre;overflow-x:auto;line-height:normal;font-family:Menlo,'DejaVu Sans Mono',consolas,'Courier New',monospace\"><span style=\"color: #7fbfbf; text-decoration-color: #7fbfbf\">                    </span><span style=\"color: #000080; text-decoration-color: #000080\">INFO    </span> Added dataset <span style=\"color: #008000; text-decoration-color: #008000\">'20140212_region_submaps'</span> to the data catalog.               <a href=\"file:///Users/jordan/repos/sunspots/src/sunspots/hooks.py\" target=\"_blank\"><span style=\"color: #7f7f7f; text-decoration-color: #7f7f7f\">hooks.py</span></a><span style=\"color: #7f7f7f; text-decoration-color: #7f7f7f\">:</span><a href=\"file:///Users/jordan/repos/sunspots/src/sunspots/hooks.py#40\" target=\"_blank\"><span style=\"color: #7f7f7f; text-decoration-color: #7f7f7f\">40</span></a>\n",
       "</pre>\n"
      ],
      "text/plain": [
       "\u001b[2;36m                   \u001b[0m\u001b[2;36m \u001b[0m\u001b[34mINFO    \u001b[0m Added dataset \u001b[32m'20140212_region_submaps'\u001b[0m to the data catalog.               \u001b]8;id=369606;file:///Users/jordan/repos/sunspots/src/sunspots/hooks.py\u001b\\\u001b[2mhooks.py\u001b[0m\u001b]8;;\u001b\\\u001b[2m:\u001b[0m\u001b]8;id=868444;file:///Users/jordan/repos/sunspots/src/sunspots/hooks.py#40\u001b\\\u001b[2m40\u001b[0m\u001b]8;;\u001b\\\n"
      ]
     },
     "metadata": {},
     "output_type": "display_data"
    },
    {
     "data": {
      "text/html": [
       "<pre style=\"white-space:pre;overflow-x:auto;line-height:normal;font-family:Menlo,'DejaVu Sans Mono',consolas,'Courier New',monospace\"><span style=\"color: #7fbfbf; text-decoration-color: #7fbfbf\">                    </span><span style=\"color: #000080; text-decoration-color: #000080\">INFO    </span> Added dataset <span style=\"color: #008000; text-decoration-color: #008000\">'20140413_timeseries'</span> to the data catalog.                   <a href=\"file:///Users/jordan/repos/sunspots/src/sunspots/hooks.py\" target=\"_blank\"><span style=\"color: #7f7f7f; text-decoration-color: #7f7f7f\">hooks.py</span></a><span style=\"color: #7f7f7f; text-decoration-color: #7f7f7f\">:</span><a href=\"file:///Users/jordan/repos/sunspots/src/sunspots/hooks.py#40\" target=\"_blank\"><span style=\"color: #7f7f7f; text-decoration-color: #7f7f7f\">40</span></a>\n",
       "</pre>\n"
      ],
      "text/plain": [
       "\u001b[2;36m                   \u001b[0m\u001b[2;36m \u001b[0m\u001b[34mINFO    \u001b[0m Added dataset \u001b[32m'20140413_timeseries'\u001b[0m to the data catalog.                   \u001b]8;id=687753;file:///Users/jordan/repos/sunspots/src/sunspots/hooks.py\u001b\\\u001b[2mhooks.py\u001b[0m\u001b]8;;\u001b\\\u001b[2m:\u001b[0m\u001b]8;id=247599;file:///Users/jordan/repos/sunspots/src/sunspots/hooks.py#40\u001b\\\u001b[2m40\u001b[0m\u001b]8;;\u001b\\\n"
      ]
     },
     "metadata": {},
     "output_type": "display_data"
    },
    {
     "data": {
      "text/html": [
       "<pre style=\"white-space:pre;overflow-x:auto;line-height:normal;font-family:Menlo,'DejaVu Sans Mono',consolas,'Courier New',monospace\"><span style=\"color: #7fbfbf; text-decoration-color: #7fbfbf\">                    </span><span style=\"color: #000080; text-decoration-color: #000080\">INFO    </span> Added dataset <span style=\"color: #008000; text-decoration-color: #008000\">'20140413_targets'</span> to the data catalog.                      <a href=\"file:///Users/jordan/repos/sunspots/src/sunspots/hooks.py\" target=\"_blank\"><span style=\"color: #7f7f7f; text-decoration-color: #7f7f7f\">hooks.py</span></a><span style=\"color: #7f7f7f; text-decoration-color: #7f7f7f\">:</span><a href=\"file:///Users/jordan/repos/sunspots/src/sunspots/hooks.py#53\" target=\"_blank\"><span style=\"color: #7f7f7f; text-decoration-color: #7f7f7f\">53</span></a>\n",
       "</pre>\n"
      ],
      "text/plain": [
       "\u001b[2;36m                   \u001b[0m\u001b[2;36m \u001b[0m\u001b[34mINFO    \u001b[0m Added dataset \u001b[32m'20140413_targets'\u001b[0m to the data catalog.                      \u001b]8;id=662502;file:///Users/jordan/repos/sunspots/src/sunspots/hooks.py\u001b\\\u001b[2mhooks.py\u001b[0m\u001b]8;;\u001b\\\u001b[2m:\u001b[0m\u001b]8;id=466828;file:///Users/jordan/repos/sunspots/src/sunspots/hooks.py#53\u001b\\\u001b[2m53\u001b[0m\u001b]8;;\u001b\\\n"
      ]
     },
     "metadata": {},
     "output_type": "display_data"
    },
    {
     "data": {
      "text/html": [
       "<pre style=\"white-space:pre;overflow-x:auto;line-height:normal;font-family:Menlo,'DejaVu Sans Mono',consolas,'Courier New',monospace\"><span style=\"color: #7fbfbf; text-decoration-color: #7fbfbf\">                    </span><span style=\"color: #000080; text-decoration-color: #000080\">INFO    </span> Added dataset <span style=\"color: #008000; text-decoration-color: #008000\">'20140413_region_submaps'</span> to the data catalog.               <a href=\"file:///Users/jordan/repos/sunspots/src/sunspots/hooks.py\" target=\"_blank\"><span style=\"color: #7f7f7f; text-decoration-color: #7f7f7f\">hooks.py</span></a><span style=\"color: #7f7f7f; text-decoration-color: #7f7f7f\">:</span><a href=\"file:///Users/jordan/repos/sunspots/src/sunspots/hooks.py#40\" target=\"_blank\"><span style=\"color: #7f7f7f; text-decoration-color: #7f7f7f\">40</span></a>\n",
       "</pre>\n"
      ],
      "text/plain": [
       "\u001b[2;36m                   \u001b[0m\u001b[2;36m \u001b[0m\u001b[34mINFO    \u001b[0m Added dataset \u001b[32m'20140413_region_submaps'\u001b[0m to the data catalog.               \u001b]8;id=334501;file:///Users/jordan/repos/sunspots/src/sunspots/hooks.py\u001b\\\u001b[2mhooks.py\u001b[0m\u001b]8;;\u001b\\\u001b[2m:\u001b[0m\u001b]8;id=921656;file:///Users/jordan/repos/sunspots/src/sunspots/hooks.py#40\u001b\\\u001b[2m40\u001b[0m\u001b]8;;\u001b\\\n"
      ]
     },
     "metadata": {},
     "output_type": "display_data"
    },
    {
     "data": {
      "text/html": [
       "<pre style=\"white-space:pre;overflow-x:auto;line-height:normal;font-family:Menlo,'DejaVu Sans Mono',consolas,'Courier New',monospace\"><span style=\"color: #7fbfbf; text-decoration-color: #7fbfbf\">                    </span><span style=\"color: #000080; text-decoration-color: #000080\">INFO    </span> Added dataset <span style=\"color: #008000; text-decoration-color: #008000\">'20140509_timeseries'</span> to the data catalog.                   <a href=\"file:///Users/jordan/repos/sunspots/src/sunspots/hooks.py\" target=\"_blank\"><span style=\"color: #7f7f7f; text-decoration-color: #7f7f7f\">hooks.py</span></a><span style=\"color: #7f7f7f; text-decoration-color: #7f7f7f\">:</span><a href=\"file:///Users/jordan/repos/sunspots/src/sunspots/hooks.py#40\" target=\"_blank\"><span style=\"color: #7f7f7f; text-decoration-color: #7f7f7f\">40</span></a>\n",
       "</pre>\n"
      ],
      "text/plain": [
       "\u001b[2;36m                   \u001b[0m\u001b[2;36m \u001b[0m\u001b[34mINFO    \u001b[0m Added dataset \u001b[32m'20140509_timeseries'\u001b[0m to the data catalog.                   \u001b]8;id=358873;file:///Users/jordan/repos/sunspots/src/sunspots/hooks.py\u001b\\\u001b[2mhooks.py\u001b[0m\u001b]8;;\u001b\\\u001b[2m:\u001b[0m\u001b]8;id=9560;file:///Users/jordan/repos/sunspots/src/sunspots/hooks.py#40\u001b\\\u001b[2m40\u001b[0m\u001b]8;;\u001b\\\n"
      ]
     },
     "metadata": {},
     "output_type": "display_data"
    },
    {
     "data": {
      "text/html": [
       "<pre style=\"white-space:pre;overflow-x:auto;line-height:normal;font-family:Menlo,'DejaVu Sans Mono',consolas,'Courier New',monospace\"><span style=\"color: #7fbfbf; text-decoration-color: #7fbfbf\">                    </span><span style=\"color: #000080; text-decoration-color: #000080\">INFO    </span> Added dataset <span style=\"color: #008000; text-decoration-color: #008000\">'20140509_targets'</span> to the data catalog.                      <a href=\"file:///Users/jordan/repos/sunspots/src/sunspots/hooks.py\" target=\"_blank\"><span style=\"color: #7f7f7f; text-decoration-color: #7f7f7f\">hooks.py</span></a><span style=\"color: #7f7f7f; text-decoration-color: #7f7f7f\">:</span><a href=\"file:///Users/jordan/repos/sunspots/src/sunspots/hooks.py#53\" target=\"_blank\"><span style=\"color: #7f7f7f; text-decoration-color: #7f7f7f\">53</span></a>\n",
       "</pre>\n"
      ],
      "text/plain": [
       "\u001b[2;36m                   \u001b[0m\u001b[2;36m \u001b[0m\u001b[34mINFO    \u001b[0m Added dataset \u001b[32m'20140509_targets'\u001b[0m to the data catalog.                      \u001b]8;id=222524;file:///Users/jordan/repos/sunspots/src/sunspots/hooks.py\u001b\\\u001b[2mhooks.py\u001b[0m\u001b]8;;\u001b\\\u001b[2m:\u001b[0m\u001b]8;id=833032;file:///Users/jordan/repos/sunspots/src/sunspots/hooks.py#53\u001b\\\u001b[2m53\u001b[0m\u001b]8;;\u001b\\\n"
      ]
     },
     "metadata": {},
     "output_type": "display_data"
    },
    {
     "data": {
      "text/html": [
       "<pre style=\"white-space:pre;overflow-x:auto;line-height:normal;font-family:Menlo,'DejaVu Sans Mono',consolas,'Courier New',monospace\"><span style=\"color: #7fbfbf; text-decoration-color: #7fbfbf\">[11/14/22 16:34:31] </span><span style=\"color: #000080; text-decoration-color: #000080\">INFO    </span> Added dataset <span style=\"color: #008000; text-decoration-color: #008000\">'20140509_region_submaps'</span> to the data catalog.               <a href=\"file:///Users/jordan/repos/sunspots/src/sunspots/hooks.py\" target=\"_blank\"><span style=\"color: #7f7f7f; text-decoration-color: #7f7f7f\">hooks.py</span></a><span style=\"color: #7f7f7f; text-decoration-color: #7f7f7f\">:</span><a href=\"file:///Users/jordan/repos/sunspots/src/sunspots/hooks.py#40\" target=\"_blank\"><span style=\"color: #7f7f7f; text-decoration-color: #7f7f7f\">40</span></a>\n",
       "</pre>\n"
      ],
      "text/plain": [
       "\u001b[2;36m[11/14/22 16:34:31]\u001b[0m\u001b[2;36m \u001b[0m\u001b[34mINFO    \u001b[0m Added dataset \u001b[32m'20140509_region_submaps'\u001b[0m to the data catalog.               \u001b]8;id=217925;file:///Users/jordan/repos/sunspots/src/sunspots/hooks.py\u001b\\\u001b[2mhooks.py\u001b[0m\u001b]8;;\u001b\\\u001b[2m:\u001b[0m\u001b]8;id=921525;file:///Users/jordan/repos/sunspots/src/sunspots/hooks.py#40\u001b\\\u001b[2m40\u001b[0m\u001b]8;;\u001b\\\n"
      ]
     },
     "metadata": {},
     "output_type": "display_data"
    },
    {
     "data": {
      "text/html": [
       "<pre style=\"white-space:pre;overflow-x:auto;line-height:normal;font-family:Menlo,'DejaVu Sans Mono',consolas,'Courier New',monospace\"><span style=\"color: #7fbfbf; text-decoration-color: #7fbfbf\">                    </span><span style=\"color: #000080; text-decoration-color: #000080\">INFO    </span> Added dataset <span style=\"color: #008000; text-decoration-color: #008000\">'20140704_timeseries'</span> to the data catalog.                   <a href=\"file:///Users/jordan/repos/sunspots/src/sunspots/hooks.py\" target=\"_blank\"><span style=\"color: #7f7f7f; text-decoration-color: #7f7f7f\">hooks.py</span></a><span style=\"color: #7f7f7f; text-decoration-color: #7f7f7f\">:</span><a href=\"file:///Users/jordan/repos/sunspots/src/sunspots/hooks.py#40\" target=\"_blank\"><span style=\"color: #7f7f7f; text-decoration-color: #7f7f7f\">40</span></a>\n",
       "</pre>\n"
      ],
      "text/plain": [
       "\u001b[2;36m                   \u001b[0m\u001b[2;36m \u001b[0m\u001b[34mINFO    \u001b[0m Added dataset \u001b[32m'20140704_timeseries'\u001b[0m to the data catalog.                   \u001b]8;id=290376;file:///Users/jordan/repos/sunspots/src/sunspots/hooks.py\u001b\\\u001b[2mhooks.py\u001b[0m\u001b]8;;\u001b\\\u001b[2m:\u001b[0m\u001b]8;id=124799;file:///Users/jordan/repos/sunspots/src/sunspots/hooks.py#40\u001b\\\u001b[2m40\u001b[0m\u001b]8;;\u001b\\\n"
      ]
     },
     "metadata": {},
     "output_type": "display_data"
    },
    {
     "data": {
      "text/html": [
       "<pre style=\"white-space:pre;overflow-x:auto;line-height:normal;font-family:Menlo,'DejaVu Sans Mono',consolas,'Courier New',monospace\"><span style=\"color: #7fbfbf; text-decoration-color: #7fbfbf\">                    </span><span style=\"color: #000080; text-decoration-color: #000080\">INFO    </span> Added dataset <span style=\"color: #008000; text-decoration-color: #008000\">'20140704_targets'</span> to the data catalog.                      <a href=\"file:///Users/jordan/repos/sunspots/src/sunspots/hooks.py\" target=\"_blank\"><span style=\"color: #7f7f7f; text-decoration-color: #7f7f7f\">hooks.py</span></a><span style=\"color: #7f7f7f; text-decoration-color: #7f7f7f\">:</span><a href=\"file:///Users/jordan/repos/sunspots/src/sunspots/hooks.py#53\" target=\"_blank\"><span style=\"color: #7f7f7f; text-decoration-color: #7f7f7f\">53</span></a>\n",
       "</pre>\n"
      ],
      "text/plain": [
       "\u001b[2;36m                   \u001b[0m\u001b[2;36m \u001b[0m\u001b[34mINFO    \u001b[0m Added dataset \u001b[32m'20140704_targets'\u001b[0m to the data catalog.                      \u001b]8;id=766171;file:///Users/jordan/repos/sunspots/src/sunspots/hooks.py\u001b\\\u001b[2mhooks.py\u001b[0m\u001b]8;;\u001b\\\u001b[2m:\u001b[0m\u001b]8;id=777718;file:///Users/jordan/repos/sunspots/src/sunspots/hooks.py#53\u001b\\\u001b[2m53\u001b[0m\u001b]8;;\u001b\\\n"
      ]
     },
     "metadata": {},
     "output_type": "display_data"
    },
    {
     "data": {
      "text/html": [
       "<pre style=\"white-space:pre;overflow-x:auto;line-height:normal;font-family:Menlo,'DejaVu Sans Mono',consolas,'Courier New',monospace\"><span style=\"color: #7fbfbf; text-decoration-color: #7fbfbf\">                    </span><span style=\"color: #000080; text-decoration-color: #000080\">INFO    </span> Added dataset <span style=\"color: #008000; text-decoration-color: #008000\">'20140704_region_submaps'</span> to the data catalog.               <a href=\"file:///Users/jordan/repos/sunspots/src/sunspots/hooks.py\" target=\"_blank\"><span style=\"color: #7f7f7f; text-decoration-color: #7f7f7f\">hooks.py</span></a><span style=\"color: #7f7f7f; text-decoration-color: #7f7f7f\">:</span><a href=\"file:///Users/jordan/repos/sunspots/src/sunspots/hooks.py#40\" target=\"_blank\"><span style=\"color: #7f7f7f; text-decoration-color: #7f7f7f\">40</span></a>\n",
       "</pre>\n"
      ],
      "text/plain": [
       "\u001b[2;36m                   \u001b[0m\u001b[2;36m \u001b[0m\u001b[34mINFO    \u001b[0m Added dataset \u001b[32m'20140704_region_submaps'\u001b[0m to the data catalog.               \u001b]8;id=938575;file:///Users/jordan/repos/sunspots/src/sunspots/hooks.py\u001b\\\u001b[2mhooks.py\u001b[0m\u001b]8;;\u001b\\\u001b[2m:\u001b[0m\u001b]8;id=778363;file:///Users/jordan/repos/sunspots/src/sunspots/hooks.py#40\u001b\\\u001b[2m40\u001b[0m\u001b]8;;\u001b\\\n"
      ]
     },
     "metadata": {},
     "output_type": "display_data"
    },
    {
     "data": {
      "text/html": [
       "<pre style=\"white-space:pre;overflow-x:auto;line-height:normal;font-family:Menlo,'DejaVu Sans Mono',consolas,'Courier New',monospace\"><span style=\"color: #7fbfbf; text-decoration-color: #7fbfbf\">                    </span><span style=\"color: #000080; text-decoration-color: #000080\">INFO    </span> Added dataset <span style=\"color: #008000; text-decoration-color: #008000\">'20140910_timeseries'</span> to the data catalog.                   <a href=\"file:///Users/jordan/repos/sunspots/src/sunspots/hooks.py\" target=\"_blank\"><span style=\"color: #7f7f7f; text-decoration-color: #7f7f7f\">hooks.py</span></a><span style=\"color: #7f7f7f; text-decoration-color: #7f7f7f\">:</span><a href=\"file:///Users/jordan/repos/sunspots/src/sunspots/hooks.py#40\" target=\"_blank\"><span style=\"color: #7f7f7f; text-decoration-color: #7f7f7f\">40</span></a>\n",
       "</pre>\n"
      ],
      "text/plain": [
       "\u001b[2;36m                   \u001b[0m\u001b[2;36m \u001b[0m\u001b[34mINFO    \u001b[0m Added dataset \u001b[32m'20140910_timeseries'\u001b[0m to the data catalog.                   \u001b]8;id=773892;file:///Users/jordan/repos/sunspots/src/sunspots/hooks.py\u001b\\\u001b[2mhooks.py\u001b[0m\u001b]8;;\u001b\\\u001b[2m:\u001b[0m\u001b]8;id=53214;file:///Users/jordan/repos/sunspots/src/sunspots/hooks.py#40\u001b\\\u001b[2m40\u001b[0m\u001b]8;;\u001b\\\n"
      ]
     },
     "metadata": {},
     "output_type": "display_data"
    },
    {
     "data": {
      "text/html": [
       "<pre style=\"white-space:pre;overflow-x:auto;line-height:normal;font-family:Menlo,'DejaVu Sans Mono',consolas,'Courier New',monospace\"><span style=\"color: #7fbfbf; text-decoration-color: #7fbfbf\">                    </span><span style=\"color: #000080; text-decoration-color: #000080\">INFO    </span> Added dataset <span style=\"color: #008000; text-decoration-color: #008000\">'20140910_targets'</span> to the data catalog.                      <a href=\"file:///Users/jordan/repos/sunspots/src/sunspots/hooks.py\" target=\"_blank\"><span style=\"color: #7f7f7f; text-decoration-color: #7f7f7f\">hooks.py</span></a><span style=\"color: #7f7f7f; text-decoration-color: #7f7f7f\">:</span><a href=\"file:///Users/jordan/repos/sunspots/src/sunspots/hooks.py#53\" target=\"_blank\"><span style=\"color: #7f7f7f; text-decoration-color: #7f7f7f\">53</span></a>\n",
       "</pre>\n"
      ],
      "text/plain": [
       "\u001b[2;36m                   \u001b[0m\u001b[2;36m \u001b[0m\u001b[34mINFO    \u001b[0m Added dataset \u001b[32m'20140910_targets'\u001b[0m to the data catalog.                      \u001b]8;id=895810;file:///Users/jordan/repos/sunspots/src/sunspots/hooks.py\u001b\\\u001b[2mhooks.py\u001b[0m\u001b]8;;\u001b\\\u001b[2m:\u001b[0m\u001b]8;id=781021;file:///Users/jordan/repos/sunspots/src/sunspots/hooks.py#53\u001b\\\u001b[2m53\u001b[0m\u001b]8;;\u001b\\\n"
      ]
     },
     "metadata": {},
     "output_type": "display_data"
    },
    {
     "data": {
      "text/html": [
       "<pre style=\"white-space:pre;overflow-x:auto;line-height:normal;font-family:Menlo,'DejaVu Sans Mono',consolas,'Courier New',monospace\"><span style=\"color: #7fbfbf; text-decoration-color: #7fbfbf\">                    </span><span style=\"color: #000080; text-decoration-color: #000080\">INFO    </span> Added dataset <span style=\"color: #008000; text-decoration-color: #008000\">'20140910_region_submaps'</span> to the data catalog.               <a href=\"file:///Users/jordan/repos/sunspots/src/sunspots/hooks.py\" target=\"_blank\"><span style=\"color: #7f7f7f; text-decoration-color: #7f7f7f\">hooks.py</span></a><span style=\"color: #7f7f7f; text-decoration-color: #7f7f7f\">:</span><a href=\"file:///Users/jordan/repos/sunspots/src/sunspots/hooks.py#40\" target=\"_blank\"><span style=\"color: #7f7f7f; text-decoration-color: #7f7f7f\">40</span></a>\n",
       "</pre>\n"
      ],
      "text/plain": [
       "\u001b[2;36m                   \u001b[0m\u001b[2;36m \u001b[0m\u001b[34mINFO    \u001b[0m Added dataset \u001b[32m'20140910_region_submaps'\u001b[0m to the data catalog.               \u001b]8;id=418324;file:///Users/jordan/repos/sunspots/src/sunspots/hooks.py\u001b\\\u001b[2mhooks.py\u001b[0m\u001b]8;;\u001b\\\u001b[2m:\u001b[0m\u001b]8;id=352347;file:///Users/jordan/repos/sunspots/src/sunspots/hooks.py#40\u001b\\\u001b[2m40\u001b[0m\u001b]8;;\u001b\\\n"
      ]
     },
     "metadata": {},
     "output_type": "display_data"
    },
    {
     "data": {
      "text/html": [
       "<pre style=\"white-space:pre;overflow-x:auto;line-height:normal;font-family:Menlo,'DejaVu Sans Mono',consolas,'Courier New',monospace\"><span style=\"color: #7fbfbf; text-decoration-color: #7fbfbf\">                    </span><span style=\"color: #000080; text-decoration-color: #000080\">INFO    </span> Kedro project sunspots                                                  <a href=\"file:///usr/local/Caskroom/mambaforge/base/envs/sunspots/lib/python3.10/site-packages/kedro/ipython/__init__.py\" target=\"_blank\"><span style=\"color: #7f7f7f; text-decoration-color: #7f7f7f\">__init__.py</span></a><span style=\"color: #7f7f7f; text-decoration-color: #7f7f7f\">:</span><a href=\"file:///usr/local/Caskroom/mambaforge/base/envs/sunspots/lib/python3.10/site-packages/kedro/ipython/__init__.py#77\" target=\"_blank\"><span style=\"color: #7f7f7f; text-decoration-color: #7f7f7f\">77</span></a>\n",
       "</pre>\n"
      ],
      "text/plain": [
       "\u001b[2;36m                   \u001b[0m\u001b[2;36m \u001b[0m\u001b[34mINFO    \u001b[0m Kedro project sunspots                                                  \u001b]8;id=668747;file:///usr/local/Caskroom/mambaforge/base/envs/sunspots/lib/python3.10/site-packages/kedro/ipython/__init__.py\u001b\\\u001b[2m__init__.py\u001b[0m\u001b]8;;\u001b\\\u001b[2m:\u001b[0m\u001b]8;id=789764;file:///usr/local/Caskroom/mambaforge/base/envs/sunspots/lib/python3.10/site-packages/kedro/ipython/__init__.py#77\u001b\\\u001b[2m77\u001b[0m\u001b]8;;\u001b\\\n"
      ]
     },
     "metadata": {},
     "output_type": "display_data"
    },
    {
     "data": {
      "text/html": [
       "<pre style=\"white-space:pre;overflow-x:auto;line-height:normal;font-family:Menlo,'DejaVu Sans Mono',consolas,'Courier New',monospace\"><span style=\"color: #7fbfbf; text-decoration-color: #7fbfbf\">                    </span><span style=\"color: #000080; text-decoration-color: #000080\">INFO    </span> Defined global variable <span style=\"color: #008000; text-decoration-color: #008000\">'context'</span>, <span style=\"color: #008000; text-decoration-color: #008000\">'session'</span>, <span style=\"color: #008000; text-decoration-color: #008000\">'catalog'</span> and <span style=\"color: #008000; text-decoration-color: #008000\">'pipelines'</span> <a href=\"file:///usr/local/Caskroom/mambaforge/base/envs/sunspots/lib/python3.10/site-packages/kedro/ipython/__init__.py\" target=\"_blank\"><span style=\"color: #7f7f7f; text-decoration-color: #7f7f7f\">__init__.py</span></a><span style=\"color: #7f7f7f; text-decoration-color: #7f7f7f\">:</span><a href=\"file:///usr/local/Caskroom/mambaforge/base/envs/sunspots/lib/python3.10/site-packages/kedro/ipython/__init__.py#78\" target=\"_blank\"><span style=\"color: #7f7f7f; text-decoration-color: #7f7f7f\">78</span></a>\n",
       "</pre>\n"
      ],
      "text/plain": [
       "\u001b[2;36m                   \u001b[0m\u001b[2;36m \u001b[0m\u001b[34mINFO    \u001b[0m Defined global variable \u001b[32m'context'\u001b[0m, \u001b[32m'session'\u001b[0m, \u001b[32m'catalog'\u001b[0m and \u001b[32m'pipelines'\u001b[0m \u001b]8;id=618928;file:///usr/local/Caskroom/mambaforge/base/envs/sunspots/lib/python3.10/site-packages/kedro/ipython/__init__.py\u001b\\\u001b[2m__init__.py\u001b[0m\u001b]8;;\u001b\\\u001b[2m:\u001b[0m\u001b]8;id=640240;file:///usr/local/Caskroom/mambaforge/base/envs/sunspots/lib/python3.10/site-packages/kedro/ipython/__init__.py#78\u001b\\\u001b[2m78\u001b[0m\u001b]8;;\u001b\\\n"
      ]
     },
     "metadata": {},
     "output_type": "display_data"
    },
    {
     "data": {
      "text/html": [
       "<pre style=\"white-space:pre;overflow-x:auto;line-height:normal;font-family:Menlo,'DejaVu Sans Mono',consolas,'Courier New',monospace\"><span style=\"color: #7fbfbf; text-decoration-color: #7fbfbf\">                    </span><span style=\"color: #000080; text-decoration-color: #000080\">INFO    </span> Registered line magic <span style=\"color: #008000; text-decoration-color: #008000\">'run_viz'</span>                                         <a href=\"file:///usr/local/Caskroom/mambaforge/base/envs/sunspots/lib/python3.10/site-packages/kedro/ipython/__init__.py\" target=\"_blank\"><span style=\"color: #7f7f7f; text-decoration-color: #7f7f7f\">__init__.py</span></a><span style=\"color: #7f7f7f; text-decoration-color: #7f7f7f\">:</span><a href=\"file:///usr/local/Caskroom/mambaforge/base/envs/sunspots/lib/python3.10/site-packages/kedro/ipython/__init__.py#84\" target=\"_blank\"><span style=\"color: #7f7f7f; text-decoration-color: #7f7f7f\">84</span></a>\n",
       "</pre>\n"
      ],
      "text/plain": [
       "\u001b[2;36m                   \u001b[0m\u001b[2;36m \u001b[0m\u001b[34mINFO    \u001b[0m Registered line magic \u001b[32m'run_viz'\u001b[0m                                         \u001b]8;id=416515;file:///usr/local/Caskroom/mambaforge/base/envs/sunspots/lib/python3.10/site-packages/kedro/ipython/__init__.py\u001b\\\u001b[2m__init__.py\u001b[0m\u001b]8;;\u001b\\\u001b[2m:\u001b[0m\u001b]8;id=130283;file:///usr/local/Caskroom/mambaforge/base/envs/sunspots/lib/python3.10/site-packages/kedro/ipython/__init__.py#84\u001b\\\u001b[2m84\u001b[0m\u001b]8;;\u001b\\\n"
      ]
     },
     "metadata": {},
     "output_type": "display_data"
    }
   ],
   "source": [
    "%load_ext kedro.ipython\n",
    "%reload_ext kedro.ipython"
   ]
  },
  {
   "cell_type": "code",
   "execution_count": 3,
   "metadata": {},
   "outputs": [],
   "source": [
    "from sunpy.net import Fido\n",
    "import astropy.units as u\n",
    "from sunpy.net import attrs as a"
   ]
  },
  {
   "cell_type": "code",
   "execution_count": 4,
   "metadata": {},
   "outputs": [
    {
     "data": {
      "text/html": [
       "<pre style=\"white-space:pre;overflow-x:auto;line-height:normal;font-family:Menlo,'DejaVu Sans Mono',consolas,'Courier New',monospace\"><span style=\"color: #7fbfbf; text-decoration-color: #7fbfbf\">[11/14/22 16:34:37] </span><span style=\"color: #000080; text-decoration-color: #000080\">INFO    </span> Loading data from <span style=\"color: #008000; text-decoration-color: #008000\">'params:datasets'</span> <span style=\"font-weight: bold\">(</span>MemoryDataSet<span style=\"font-weight: bold\">)</span><span style=\"color: #808000; text-decoration-color: #808000\">...</span>             <a href=\"file:///usr/local/Caskroom/mambaforge/base/envs/sunspots/lib/python3.10/site-packages/kedro/io/data_catalog.py\" target=\"_blank\"><span style=\"color: #7f7f7f; text-decoration-color: #7f7f7f\">data_catalog.py</span></a><span style=\"color: #7f7f7f; text-decoration-color: #7f7f7f\">:</span><a href=\"file:///usr/local/Caskroom/mambaforge/base/envs/sunspots/lib/python3.10/site-packages/kedro/io/data_catalog.py#343\" target=\"_blank\"><span style=\"color: #7f7f7f; text-decoration-color: #7f7f7f\">343</span></a>\n",
       "</pre>\n"
      ],
      "text/plain": [
       "\u001b[2;36m[11/14/22 16:34:37]\u001b[0m\u001b[2;36m \u001b[0m\u001b[34mINFO    \u001b[0m Loading data from \u001b[32m'params:datasets'\u001b[0m \u001b[1m(\u001b[0mMemoryDataSet\u001b[1m)\u001b[0m\u001b[33m...\u001b[0m             \u001b]8;id=608787;file:///usr/local/Caskroom/mambaforge/base/envs/sunspots/lib/python3.10/site-packages/kedro/io/data_catalog.py\u001b\\\u001b[2mdata_catalog.py\u001b[0m\u001b]8;;\u001b\\\u001b[2m:\u001b[0m\u001b]8;id=128754;file:///usr/local/Caskroom/mambaforge/base/envs/sunspots/lib/python3.10/site-packages/kedro/io/data_catalog.py#343\u001b\\\u001b[2m343\u001b[0m\u001b]8;;\u001b\\\n"
      ]
     },
     "metadata": {},
     "output_type": "display_data"
    }
   ],
   "source": [
    "datasets = catalog.load(\"params:datasets\")"
   ]
  },
  {
   "cell_type": "code",
   "execution_count": 5,
   "metadata": {},
   "outputs": [
    {
     "name": "stdout",
     "output_type": "stream",
     "text": [
      "20140130Timeseries\n",
      "20140212Timeseries\n",
      "20140413Timeseries\n",
      "20140509Timeseries\n",
      "20140704Timeseries\n",
      "20140910Timeseries\n"
     ]
    }
   ],
   "source": [
    "for dataset in list(datasets.keys()):\n",
    "    print(dataset)"
   ]
  },
  {
   "cell_type": "code",
   "execution_count": 55,
   "metadata": {
    "collapsed": true,
    "jupyter": {
     "outputs_hidden": true
    },
    "tags": []
   },
   "outputs": [
    {
     "data": {
      "application/vnd.jupyter.widget-view+json": {
       "model_id": "ac0ccecd00944f288883c1bcf6e80306",
       "version_major": 2,
       "version_minor": 0
      },
      "text/plain": [
       "Files Downloaded:   0%|          | 0/278 [00:00<?, ?file/s]"
      ]
     },
     "metadata": {},
     "output_type": "display_data"
    },
    {
     "data": {
      "application/vnd.jupyter.widget-view+json": {
       "model_id": "",
       "version_major": 2,
       "version_minor": 0
      },
      "text/plain": [
       "hmi_ic_45s_2014_07_04_00_01_30_tai_continuum.fits:   0%|          | 0.00/15.5M [00:00<?, ?B/s]"
      ]
     },
     "metadata": {},
     "output_type": "display_data"
    },
    {
     "data": {
      "application/vnd.jupyter.widget-view+json": {
       "model_id": "b0716f176a344e8d85b36c9a802d7299",
       "version_major": 2,
       "version_minor": 0
      },
      "text/plain": [
       "hmi_ic_45s_2014_07_04_01_01_30_tai_continuum.fits:   0%|          | 0.00/15.5M [00:00<?, ?B/s]"
      ]
     },
     "metadata": {},
     "output_type": "display_data"
    },
    {
     "data": {
      "application/vnd.jupyter.widget-view+json": {
       "model_id": "f3d5a4346eb242edbfe9db99ca52ea5f",
       "version_major": 2,
       "version_minor": 0
      },
      "text/plain": [
       "hmi_ic_45s_2014_07_04_02_01_30_tai_continuum.fits:   0%|          | 0.00/15.5M [00:00<?, ?B/s]"
      ]
     },
     "metadata": {},
     "output_type": "display_data"
    },
    {
     "data": {
      "application/vnd.jupyter.widget-view+json": {
       "model_id": "9df8966536d547cc879b6c5b671fac5a",
       "version_major": 2,
       "version_minor": 0
      },
      "text/plain": [
       "hmi_ic_45s_2014_07_04_03_01_30_tai_continuum.fits:   0%|          | 0.00/15.5M [00:00<?, ?B/s]"
      ]
     },
     "metadata": {},
     "output_type": "display_data"
    },
    {
     "data": {
      "application/vnd.jupyter.widget-view+json": {
       "model_id": "a67c2d630cae43b1804a4f05bf76a73f",
       "version_major": 2,
       "version_minor": 0
      },
      "text/plain": [
       "hmi_ic_45s_2014_07_04_07_01_30_tai_continuum.fits:   0%|          | 0.00/15.5M [00:00<?, ?B/s]"
      ]
     },
     "metadata": {},
     "output_type": "display_data"
    },
    {
     "data": {
      "application/vnd.jupyter.widget-view+json": {
       "model_id": "8b97b8cee8634c0caab8f998a4acdb74",
       "version_major": 2,
       "version_minor": 0
      },
      "text/plain": [
       "hmi_ic_45s_2014_07_04_08_01_30_tai_continuum.fits:   0%|          | 0.00/15.5M [00:00<?, ?B/s]"
      ]
     },
     "metadata": {},
     "output_type": "display_data"
    },
    {
     "data": {
      "application/vnd.jupyter.widget-view+json": {
       "model_id": "",
       "version_major": 2,
       "version_minor": 0
      },
      "text/plain": [
       "hmi_ic_45s_2014_07_04_10_01_30_tai_continuum.fits:   0%|          | 0.00/15.6M [00:00<?, ?B/s]"
      ]
     },
     "metadata": {},
     "output_type": "display_data"
    },
    {
     "data": {
      "application/vnd.jupyter.widget-view+json": {
       "model_id": "",
       "version_major": 2,
       "version_minor": 0
      },
      "text/plain": [
       "hmi_ic_45s_2014_07_04_13_01_30_tai_continuum.fits:   0%|          | 0.00/15.6M [00:00<?, ?B/s]"
      ]
     },
     "metadata": {},
     "output_type": "display_data"
    },
    {
     "data": {
      "application/vnd.jupyter.widget-view+json": {
       "model_id": "856d8bad50b749b7bb447db26c164478",
       "version_major": 2,
       "version_minor": 0
      },
      "text/plain": [
       "hmi_ic_45s_2014_07_04_17_01_30_tai_continuum.fits:   0%|          | 0.00/15.5M [00:00<?, ?B/s]"
      ]
     },
     "metadata": {},
     "output_type": "display_data"
    },
    {
     "data": {
      "application/vnd.jupyter.widget-view+json": {
       "model_id": "",
       "version_major": 2,
       "version_minor": 0
      },
      "text/plain": [
       "hmi_ic_45s_2014_07_04_20_01_30_tai_continuum.fits:   0%|          | 0.00/15.5M [00:00<?, ?B/s]"
      ]
     },
     "metadata": {},
     "output_type": "display_data"
    },
    {
     "data": {
      "application/vnd.jupyter.widget-view+json": {
       "model_id": "",
       "version_major": 2,
       "version_minor": 0
      },
      "text/plain": [
       "hmi_ic_45s_2014_07_04_21_01_30_tai_continuum.fits:   0%|          | 0.00/15.5M [00:00<?, ?B/s]"
      ]
     },
     "metadata": {},
     "output_type": "display_data"
    },
    {
     "data": {
      "application/vnd.jupyter.widget-view+json": {
       "model_id": "",
       "version_major": 2,
       "version_minor": 0
      },
      "text/plain": [
       "hmi_ic_45s_2014_07_04_22_01_30_tai_continuum.fits:   0%|          | 0.00/15.5M [00:00<?, ?B/s]"
      ]
     },
     "metadata": {},
     "output_type": "display_data"
    },
    {
     "data": {
      "application/vnd.jupyter.widget-view+json": {
       "model_id": "9e9ba2948bd043f4aa35d12d7b3b3727",
       "version_major": 2,
       "version_minor": 0
      },
      "text/plain": [
       "hmi_ic_45s_2014_07_04_23_01_30_tai_continuum.fits:   0%|          | 0.00/15.5M [00:00<?, ?B/s]"
      ]
     },
     "metadata": {},
     "output_type": "display_data"
    },
    {
     "data": {
      "application/vnd.jupyter.widget-view+json": {
       "model_id": "",
       "version_major": 2,
       "version_minor": 0
      },
      "text/plain": [
       "hmi_ic_45s_2014_07_05_02_01_30_tai_continuum.fits:   0%|          | 0.00/15.5M [00:00<?, ?B/s]"
      ]
     },
     "metadata": {},
     "output_type": "display_data"
    },
    {
     "data": {
      "application/vnd.jupyter.widget-view+json": {
       "model_id": "4e727fd3c6de4b20bb766011eae8db89",
       "version_major": 2,
       "version_minor": 0
      },
      "text/plain": [
       "hmi_ic_45s_2014_07_05_03_01_30_tai_continuum.fits:   0%|          | 0.00/15.5M [00:00<?, ?B/s]"
      ]
     },
     "metadata": {},
     "output_type": "display_data"
    },
    {
     "data": {
      "application/vnd.jupyter.widget-view+json": {
       "model_id": "5a1bf7d4cace4968b591d493fc19d16b",
       "version_major": 2,
       "version_minor": 0
      },
      "text/plain": [
       "hmi_ic_45s_2014_07_05_04_01_30_tai_continuum.fits:   0%|          | 0.00/15.5M [00:00<?, ?B/s]"
      ]
     },
     "metadata": {},
     "output_type": "display_data"
    },
    {
     "data": {
      "application/vnd.jupyter.widget-view+json": {
       "model_id": "",
       "version_major": 2,
       "version_minor": 0
      },
      "text/plain": [
       "hmi_ic_45s_2014_07_05_05_01_30_tai_continuum.fits:   0%|          | 0.00/15.5M [00:00<?, ?B/s]"
      ]
     },
     "metadata": {},
     "output_type": "display_data"
    },
    {
     "data": {
      "application/vnd.jupyter.widget-view+json": {
       "model_id": "9d9d51a5e0f34beb879c268c00894fe0",
       "version_major": 2,
       "version_minor": 0
      },
      "text/plain": [
       "hmi_ic_45s_2014_07_05_06_01_30_tai_continuum.fits:   0%|          | 0.00/15.6M [00:00<?, ?B/s]"
      ]
     },
     "metadata": {},
     "output_type": "display_data"
    },
    {
     "data": {
      "application/vnd.jupyter.widget-view+json": {
       "model_id": "3772e0e03900488495664cdb52d27d2e",
       "version_major": 2,
       "version_minor": 0
      },
      "text/plain": [
       "hmi_ic_45s_2014_07_05_08_01_30_tai_continuum.fits:   0%|          | 0.00/15.5M [00:00<?, ?B/s]"
      ]
     },
     "metadata": {},
     "output_type": "display_data"
    },
    {
     "data": {
      "application/vnd.jupyter.widget-view+json": {
       "model_id": "3b497d66a4a84499aeb63f186404e68b",
       "version_major": 2,
       "version_minor": 0
      },
      "text/plain": [
       "hmi_ic_45s_2014_07_05_09_01_30_tai_continuum.fits:   0%|          | 0.00/15.5M [00:00<?, ?B/s]"
      ]
     },
     "metadata": {},
     "output_type": "display_data"
    },
    {
     "data": {
      "application/vnd.jupyter.widget-view+json": {
       "model_id": "",
       "version_major": 2,
       "version_minor": 0
      },
      "text/plain": [
       "hmi_ic_45s_2014_07_05_11_01_30_tai_continuum.fits:   0%|          | 0.00/15.6M [00:00<?, ?B/s]"
      ]
     },
     "metadata": {},
     "output_type": "display_data"
    },
    {
     "data": {
      "application/vnd.jupyter.widget-view+json": {
       "model_id": "",
       "version_major": 2,
       "version_minor": 0
      },
      "text/plain": [
       "hmi_ic_45s_2014_07_05_13_01_30_tai_continuum.fits:   0%|          | 0.00/15.6M [00:00<?, ?B/s]"
      ]
     },
     "metadata": {},
     "output_type": "display_data"
    },
    {
     "data": {
      "application/vnd.jupyter.widget-view+json": {
       "model_id": "",
       "version_major": 2,
       "version_minor": 0
      },
      "text/plain": [
       "hmi_ic_45s_2014_07_05_12_01_30_tai_continuum.fits:   0%|          | 0.00/15.6M [00:00<?, ?B/s]"
      ]
     },
     "metadata": {},
     "output_type": "display_data"
    },
    {
     "data": {
      "application/vnd.jupyter.widget-view+json": {
       "model_id": "35732116998d471b8e1c174375db469f",
       "version_major": 2,
       "version_minor": 0
      },
      "text/plain": [
       "hmi_ic_45s_2014_07_05_15_01_30_tai_continuum.fits:   0%|          | 0.00/15.6M [00:00<?, ?B/s]"
      ]
     },
     "metadata": {},
     "output_type": "display_data"
    },
    {
     "data": {
      "application/vnd.jupyter.widget-view+json": {
       "model_id": "979231fb32d74fe88ce2ea774def4a7e",
       "version_major": 2,
       "version_minor": 0
      },
      "text/plain": [
       "hmi_ic_45s_2014_07_05_17_01_30_tai_continuum.fits:   0%|          | 0.00/15.5M [00:00<?, ?B/s]"
      ]
     },
     "metadata": {},
     "output_type": "display_data"
    },
    {
     "data": {
      "application/vnd.jupyter.widget-view+json": {
       "model_id": "",
       "version_major": 2,
       "version_minor": 0
      },
      "text/plain": [
       "hmi_ic_45s_2014_07_05_20_01_30_tai_continuum.fits:   0%|          | 0.00/15.5M [00:00<?, ?B/s]"
      ]
     },
     "metadata": {},
     "output_type": "display_data"
    },
    {
     "data": {
      "application/vnd.jupyter.widget-view+json": {
       "model_id": "",
       "version_major": 2,
       "version_minor": 0
      },
      "text/plain": [
       "hmi_ic_45s_2014_07_06_00_01_30_tai_continuum.fits:   0%|          | 0.00/15.5M [00:00<?, ?B/s]"
      ]
     },
     "metadata": {},
     "output_type": "display_data"
    },
    {
     "data": {
      "application/vnd.jupyter.widget-view+json": {
       "model_id": "",
       "version_major": 2,
       "version_minor": 0
      },
      "text/plain": [
       "hmi_ic_45s_2014_07_06_01_01_30_tai_continuum.fits:   0%|          | 0.00/15.5M [00:00<?, ?B/s]"
      ]
     },
     "metadata": {},
     "output_type": "display_data"
    },
    {
     "data": {
      "application/vnd.jupyter.widget-view+json": {
       "model_id": "",
       "version_major": 2,
       "version_minor": 0
      },
      "text/plain": [
       "hmi_ic_45s_2014_07_06_02_01_30_tai_continuum.fits:   0%|          | 0.00/15.5M [00:00<?, ?B/s]"
      ]
     },
     "metadata": {},
     "output_type": "display_data"
    },
    {
     "data": {
      "application/vnd.jupyter.widget-view+json": {
       "model_id": "0f84fbe87d2e46ee8f3ea4c22175c08d",
       "version_major": 2,
       "version_minor": 0
      },
      "text/plain": [
       "hmi_ic_45s_2014_07_06_04_01_30_tai_continuum.fits:   0%|          | 0.00/15.5M [00:00<?, ?B/s]"
      ]
     },
     "metadata": {},
     "output_type": "display_data"
    },
    {
     "data": {
      "application/vnd.jupyter.widget-view+json": {
       "model_id": "0da0e58ff24a482582348c11cfe2e738",
       "version_major": 2,
       "version_minor": 0
      },
      "text/plain": [
       "hmi_ic_45s_2014_07_06_06_01_30_tai_continuum.fits:   0%|          | 0.00/15.6M [00:00<?, ?B/s]"
      ]
     },
     "metadata": {},
     "output_type": "display_data"
    },
    {
     "data": {
      "application/vnd.jupyter.widget-view+json": {
       "model_id": "",
       "version_major": 2,
       "version_minor": 0
      },
      "text/plain": [
       "hmi_ic_45s_2014_07_06_08_01_30_tai_continuum.fits:   0%|          | 0.00/15.5M [00:00<?, ?B/s]"
      ]
     },
     "metadata": {},
     "output_type": "display_data"
    },
    {
     "data": {
      "application/vnd.jupyter.widget-view+json": {
       "model_id": "",
       "version_major": 2,
       "version_minor": 0
      },
      "text/plain": [
       "hmi_ic_45s_2014_07_06_09_01_30_tai_continuum.fits:   0%|          | 0.00/15.5M [00:00<?, ?B/s]"
      ]
     },
     "metadata": {},
     "output_type": "display_data"
    },
    {
     "data": {
      "application/vnd.jupyter.widget-view+json": {
       "model_id": "",
       "version_major": 2,
       "version_minor": 0
      },
      "text/plain": [
       "hmi_ic_45s_2014_07_06_11_01_30_tai_continuum.fits:   0%|          | 0.00/15.6M [00:00<?, ?B/s]"
      ]
     },
     "metadata": {},
     "output_type": "display_data"
    },
    {
     "data": {
      "application/vnd.jupyter.widget-view+json": {
       "model_id": "0e56e1485acd43dcb7497d6d9bf2dfe1",
       "version_major": 2,
       "version_minor": 0
      },
      "text/plain": [
       "hmi_ic_45s_2014_07_06_13_01_30_tai_continuum.fits:   0%|          | 0.00/15.6M [00:00<?, ?B/s]"
      ]
     },
     "metadata": {},
     "output_type": "display_data"
    },
    {
     "data": {
      "application/vnd.jupyter.widget-view+json": {
       "model_id": "ac81f8391a5748929192e154984ea06a",
       "version_major": 2,
       "version_minor": 0
      },
      "text/plain": [
       "hmi_ic_45s_2014_07_06_16_01_30_tai_continuum.fits:   0%|          | 0.00/15.6M [00:00<?, ?B/s]"
      ]
     },
     "metadata": {},
     "output_type": "display_data"
    },
    {
     "data": {
      "application/vnd.jupyter.widget-view+json": {
       "model_id": "",
       "version_major": 2,
       "version_minor": 0
      },
      "text/plain": [
       "hmi_ic_45s_2014_07_06_19_01_30_tai_continuum.fits:   0%|          | 0.00/15.5M [00:00<?, ?B/s]"
      ]
     },
     "metadata": {},
     "output_type": "display_data"
    },
    {
     "data": {
      "application/vnd.jupyter.widget-view+json": {
       "model_id": "",
       "version_major": 2,
       "version_minor": 0
      },
      "text/plain": [
       "hmi_ic_45s_2014_07_06_21_01_30_tai_continuum.fits:   0%|          | 0.00/15.5M [00:00<?, ?B/s]"
      ]
     },
     "metadata": {},
     "output_type": "display_data"
    },
    {
     "data": {
      "application/vnd.jupyter.widget-view+json": {
       "model_id": "",
       "version_major": 2,
       "version_minor": 0
      },
      "text/plain": [
       "hmi_ic_45s_2014_07_06_22_01_30_tai_continuum.fits:   0%|          | 0.00/15.5M [00:00<?, ?B/s]"
      ]
     },
     "metadata": {},
     "output_type": "display_data"
    },
    {
     "data": {
      "application/vnd.jupyter.widget-view+json": {
       "model_id": "",
       "version_major": 2,
       "version_minor": 0
      },
      "text/plain": [
       "hmi_ic_45s_2014_07_07_00_01_30_tai_continuum.fits:   0%|          | 0.00/15.5M [00:00<?, ?B/s]"
      ]
     },
     "metadata": {},
     "output_type": "display_data"
    },
    {
     "data": {
      "application/vnd.jupyter.widget-view+json": {
       "model_id": "",
       "version_major": 2,
       "version_minor": 0
      },
      "text/plain": [
       "hmi_ic_45s_2014_07_07_01_01_30_tai_continuum.fits:   0%|          | 0.00/15.5M [00:00<?, ?B/s]"
      ]
     },
     "metadata": {},
     "output_type": "display_data"
    },
    {
     "data": {
      "application/vnd.jupyter.widget-view+json": {
       "model_id": "",
       "version_major": 2,
       "version_minor": 0
      },
      "text/plain": [
       "hmi_ic_45s_2014_07_07_03_01_30_tai_continuum.fits:   0%|          | 0.00/15.5M [00:00<?, ?B/s]"
      ]
     },
     "metadata": {},
     "output_type": "display_data"
    },
    {
     "data": {
      "application/vnd.jupyter.widget-view+json": {
       "model_id": "2da7782baf1844c1ac52b1023a07f7b7",
       "version_major": 2,
       "version_minor": 0
      },
      "text/plain": [
       "hmi_ic_45s_2014_07_07_04_01_30_tai_continuum.fits:   0%|          | 0.00/15.5M [00:00<?, ?B/s]"
      ]
     },
     "metadata": {},
     "output_type": "display_data"
    },
    {
     "data": {
      "application/vnd.jupyter.widget-view+json": {
       "model_id": "35423c7b8d4a45b88fa1b8ea2b15cd20",
       "version_major": 2,
       "version_minor": 0
      },
      "text/plain": [
       "hmi_ic_45s_2014_07_07_06_01_30_tai_continuum.fits:   0%|          | 0.00/15.6M [00:00<?, ?B/s]"
      ]
     },
     "metadata": {},
     "output_type": "display_data"
    },
    {
     "data": {
      "application/vnd.jupyter.widget-view+json": {
       "model_id": "",
       "version_major": 2,
       "version_minor": 0
      },
      "text/plain": [
       "hmi_ic_45s_2014_07_07_07_01_30_tai_continuum.fits:   0%|          | 0.00/15.5M [00:00<?, ?B/s]"
      ]
     },
     "metadata": {},
     "output_type": "display_data"
    },
    {
     "data": {
      "application/vnd.jupyter.widget-view+json": {
       "model_id": "",
       "version_major": 2,
       "version_minor": 0
      },
      "text/plain": [
       "hmi_ic_45s_2014_07_07_09_01_30_tai_continuum.fits:   0%|          | 0.00/15.5M [00:00<?, ?B/s]"
      ]
     },
     "metadata": {},
     "output_type": "display_data"
    },
    {
     "data": {
      "application/vnd.jupyter.widget-view+json": {
       "model_id": "",
       "version_major": 2,
       "version_minor": 0
      },
      "text/plain": [
       "hmi_ic_45s_2014_07_07_11_01_30_tai_continuum.fits:   0%|          | 0.00/15.6M [00:00<?, ?B/s]"
      ]
     },
     "metadata": {},
     "output_type": "display_data"
    },
    {
     "data": {
      "application/vnd.jupyter.widget-view+json": {
       "model_id": "",
       "version_major": 2,
       "version_minor": 0
      },
      "text/plain": [
       "hmi_ic_45s_2014_07_07_14_01_30_tai_continuum.fits:   0%|          | 0.00/15.6M [00:00<?, ?B/s]"
      ]
     },
     "metadata": {},
     "output_type": "display_data"
    },
    {
     "data": {
      "application/vnd.jupyter.widget-view+json": {
       "model_id": "",
       "version_major": 2,
       "version_minor": 0
      },
      "text/plain": [
       "hmi_ic_45s_2014_07_07_15_01_30_tai_continuum.fits:   0%|          | 0.00/15.6M [00:00<?, ?B/s]"
      ]
     },
     "metadata": {},
     "output_type": "display_data"
    },
    {
     "data": {
      "application/vnd.jupyter.widget-view+json": {
       "model_id": "01d0b82f40054201a0859a4f61d75ac8",
       "version_major": 2,
       "version_minor": 0
      },
      "text/plain": [
       "hmi_ic_45s_2014_07_07_17_01_30_tai_continuum.fits:   0%|          | 0.00/15.6M [00:00<?, ?B/s]"
      ]
     },
     "metadata": {},
     "output_type": "display_data"
    },
    {
     "data": {
      "application/vnd.jupyter.widget-view+json": {
       "model_id": "d9c35cb6c97c42bf80f2a2e10a8b53cb",
       "version_major": 2,
       "version_minor": 0
      },
      "text/plain": [
       "hmi_ic_45s_2014_07_07_19_01_30_tai_continuum.fits:   0%|          | 0.00/15.5M [00:00<?, ?B/s]"
      ]
     },
     "metadata": {},
     "output_type": "display_data"
    },
    {
     "data": {
      "application/vnd.jupyter.widget-view+json": {
       "model_id": "",
       "version_major": 2,
       "version_minor": 0
      },
      "text/plain": [
       "hmi_ic_45s_2014_07_07_21_01_30_tai_continuum.fits:   0%|          | 0.00/15.5M [00:00<?, ?B/s]"
      ]
     },
     "metadata": {},
     "output_type": "display_data"
    },
    {
     "data": {
      "application/vnd.jupyter.widget-view+json": {
       "model_id": "e797e4af82d848de8cfdbef1d9739180",
       "version_major": 2,
       "version_minor": 0
      },
      "text/plain": [
       "hmi_ic_45s_2014_07_07_22_01_30_tai_continuum.fits:   0%|          | 0.00/15.5M [00:00<?, ?B/s]"
      ]
     },
     "metadata": {},
     "output_type": "display_data"
    },
    {
     "data": {
      "application/vnd.jupyter.widget-view+json": {
       "model_id": "",
       "version_major": 2,
       "version_minor": 0
      },
      "text/plain": [
       "hmi_ic_45s_2014_07_08_02_01_30_tai_continuum.fits:   0%|          | 0.00/15.5M [00:00<?, ?B/s]"
      ]
     },
     "metadata": {},
     "output_type": "display_data"
    },
    {
     "data": {
      "application/vnd.jupyter.widget-view+json": {
       "model_id": "",
       "version_major": 2,
       "version_minor": 0
      },
      "text/plain": [
       "hmi_ic_45s_2014_07_08_03_01_30_tai_continuum.fits:   0%|          | 0.00/15.5M [00:00<?, ?B/s]"
      ]
     },
     "metadata": {},
     "output_type": "display_data"
    },
    {
     "data": {
      "application/vnd.jupyter.widget-view+json": {
       "model_id": "",
       "version_major": 2,
       "version_minor": 0
      },
      "text/plain": [
       "hmi_ic_45s_2014_07_08_06_01_30_tai_continuum.fits:   0%|          | 0.00/15.6M [00:00<?, ?B/s]"
      ]
     },
     "metadata": {},
     "output_type": "display_data"
    },
    {
     "data": {
      "application/vnd.jupyter.widget-view+json": {
       "model_id": "49710f9c1db44c0881c8431feda49e20",
       "version_major": 2,
       "version_minor": 0
      },
      "text/plain": [
       "hmi_ic_45s_2014_07_08_13_01_30_tai_continuum.fits:   0%|          | 0.00/15.6M [00:00<?, ?B/s]"
      ]
     },
     "metadata": {},
     "output_type": "display_data"
    },
    {
     "data": {
      "application/vnd.jupyter.widget-view+json": {
       "model_id": "",
       "version_major": 2,
       "version_minor": 0
      },
      "text/plain": [
       "hmi_ic_45s_2014_07_08_14_01_30_tai_continuum.fits:   0%|          | 0.00/15.6M [00:00<?, ?B/s]"
      ]
     },
     "metadata": {},
     "output_type": "display_data"
    },
    {
     "data": {
      "application/vnd.jupyter.widget-view+json": {
       "model_id": "43bc5e9e275e4be0813ea74e95384796",
       "version_major": 2,
       "version_minor": 0
      },
      "text/plain": [
       "hmi_ic_45s_2014_07_08_15_01_30_tai_continuum.fits:   0%|          | 0.00/15.6M [00:00<?, ?B/s]"
      ]
     },
     "metadata": {},
     "output_type": "display_data"
    },
    {
     "data": {
      "application/vnd.jupyter.widget-view+json": {
       "model_id": "a0de54f2ebd246d1858ac7abd41f3055",
       "version_major": 2,
       "version_minor": 0
      },
      "text/plain": [
       "hmi_ic_45s_2014_07_08_14_31_30_tai_continuum.fits:   0%|          | 0.00/15.6M [00:00<?, ?B/s]"
      ]
     },
     "metadata": {},
     "output_type": "display_data"
    },
    {
     "data": {
      "application/vnd.jupyter.widget-view+json": {
       "model_id": "a72e1e4087a14516ac2b4b4c5770eb21",
       "version_major": 2,
       "version_minor": 0
      },
      "text/plain": [
       "hmi_ic_45s_2014_07_08_16_31_30_tai_continuum.fits:   0%|          | 0.00/15.6M [00:00<?, ?B/s]"
      ]
     },
     "metadata": {},
     "output_type": "display_data"
    },
    {
     "data": {
      "application/vnd.jupyter.widget-view+json": {
       "model_id": "",
       "version_major": 2,
       "version_minor": 0
      },
      "text/plain": [
       "hmi_ic_45s_2014_07_09_04_01_30_tai_continuum.fits:   0%|          | 0.00/15.5M [00:00<?, ?B/s]"
      ]
     },
     "metadata": {},
     "output_type": "display_data"
    },
    {
     "data": {
      "application/vnd.jupyter.widget-view+json": {
       "model_id": "",
       "version_major": 2,
       "version_minor": 0
      },
      "text/plain": [
       "hmi_ic_45s_2014_07_09_20_01_30_tai_continuum.fits:   0%|          | 0.00/15.5M [00:00<?, ?B/s]"
      ]
     },
     "metadata": {},
     "output_type": "display_data"
    },
    {
     "name": "stdout",
     "output_type": "stream",
     "text": [
      "241/0 files failed to download. Please check `.errors` for details\n"
     ]
    }
   ],
   "source": [
    "key = \"20140704Timeseries\"\n",
    "\n",
    "start_time = datasets[key][\"start_time\"]\n",
    "end_time = datasets[key][\"end_time\"]\n",
    "interval = datasets[key][\"interval\"]\n",
    "\n",
    "results = Fido.search(\n",
    "    a.Time(start_time, end_time),\n",
    "    a.Instrument.hmi,\n",
    "    a.Physobs.intensity,\n",
    "    a.Sample(interval * u.minute),\n",
    ")\n",
    "downloads = Fido.fetch(results, path=f\"../data/01_raw/{key}\")"
   ]
  },
  {
   "cell_type": "code",
   "execution_count": 89,
   "metadata": {
    "tags": []
   },
   "outputs": [
    {
     "data": {
      "text/html": [
       "<pre style=\"white-space:pre;overflow-x:auto;line-height:normal;font-family:Menlo,'DejaVu Sans Mono',consolas,'Courier New',monospace\">\n",
       "<span style=\"font-weight: bold\">[</span>\n",
       "    <span style=\"font-weight: bold\">&lt;</span><span style=\"color: #ff00ff; text-decoration-color: #ff00ff; font-weight: bold\">parfive.results.Error</span><span style=\"color: #000000; text-decoration-color: #000000\"> object at </span><span style=\"color: #008080; text-decoration-color: #008080; font-weight: bold\">0x12a644950</span><span style=\"font-weight: bold\">&gt;</span>\n",
       "<span style=\"color: #0000ff; text-decoration-color: #0000ff; text-decoration: underline\">http://netdrms01.nispdc.nso.edu/cgi-bin/netdrms/drms_export.cgi?series=hmi__Ic_45s;compress=rice;record=15081522-15081522,</span>\n",
       "Server disconnected,\n",
       "    <span style=\"font-weight: bold\">&lt;</span><span style=\"color: #ff00ff; text-decoration-color: #ff00ff; font-weight: bold\">parfive.results.Error</span><span style=\"color: #000000; text-decoration-color: #000000\"> object at </span><span style=\"color: #008080; text-decoration-color: #008080; font-weight: bold\">0x12a806b10</span><span style=\"font-weight: bold\">&gt;</span>\n",
       "<span style=\"color: #0000ff; text-decoration-color: #0000ff; text-decoration: underline\">http://netdrms01.nispdc.nso.edu/cgi-bin/netdrms/drms_export.cgi?series=hmi__Ic_45s;compress=rice;record=15083642-15083642,</span>\n",
       "Server disconnected,\n",
       "    <span style=\"font-weight: bold\">&lt;</span><span style=\"color: #ff00ff; text-decoration-color: #ff00ff; font-weight: bold\">parfive.results.Error</span><span style=\"color: #000000; text-decoration-color: #000000\"> object at </span><span style=\"color: #008080; text-decoration-color: #008080; font-weight: bold\">0x12a986b60</span><span style=\"font-weight: bold\">&gt;</span>\n",
       "<span style=\"color: #0000ff; text-decoration-color: #0000ff; text-decoration: underline\">http://netdrms01.nispdc.nso.edu/cgi-bin/netdrms/drms_export.cgi?series=hmi__Ic_45s;compress=rice;record=15086762-15086762,</span>\n",
       "Server disconnected,\n",
       "    <span style=\"font-weight: bold\">&lt;</span><span style=\"color: #ff00ff; text-decoration-color: #ff00ff; font-weight: bold\">parfive.results.Error</span><span style=\"color: #000000; text-decoration-color: #000000\"> object at </span><span style=\"color: #008080; text-decoration-color: #008080; font-weight: bold\">0x12b263470</span><span style=\"font-weight: bold\">&gt;</span>\n",
       "<span style=\"color: #0000ff; text-decoration-color: #0000ff; text-decoration: underline\">http://netdrms01.nispdc.nso.edu/cgi-bin/netdrms/drms_export.cgi?series=hmi__Ic_45s;compress=rice;record=15088122-15088122,</span>\n",
       "Server disconnected,\n",
       "    <span style=\"font-weight: bold\">&lt;</span><span style=\"color: #ff00ff; text-decoration-color: #ff00ff; font-weight: bold\">parfive.results.Error</span><span style=\"color: #000000; text-decoration-color: #000000\"> object at </span><span style=\"color: #008080; text-decoration-color: #008080; font-weight: bold\">0x12c03ede0</span><span style=\"font-weight: bold\">&gt;</span>\n",
       "<span style=\"color: #0000ff; text-decoration-color: #0000ff; text-decoration: underline\">http://netdrms01.nispdc.nso.edu/cgi-bin/netdrms/drms_export.cgi?series=hmi__Ic_45s;compress=rice;record=15088762-15088762,</span>\n",
       "Server disconnected,\n",
       "    <span style=\"font-weight: bold\">&lt;</span><span style=\"color: #ff00ff; text-decoration-color: #ff00ff; font-weight: bold\">parfive.results.Error</span><span style=\"color: #000000; text-decoration-color: #000000\"> object at </span><span style=\"color: #008080; text-decoration-color: #008080; font-weight: bold\">0x12bc42ed0</span><span style=\"font-weight: bold\">&gt;</span>\n",
       "<span style=\"color: #0000ff; text-decoration-color: #0000ff; text-decoration: underline\">http://netdrms01.nispdc.nso.edu/cgi-bin/netdrms/drms_export.cgi?series=hmi__Ic_45s;compress=rice;record=15089162-15089162,</span>\n",
       "Server disconnected\n",
       "<span style=\"font-weight: bold\">]</span>\n",
       "</pre>\n"
      ],
      "text/plain": [
       "\n",
       "\u001b[1m[\u001b[0m\n",
       "    \u001b[1m<\u001b[0m\u001b[1;95mparfive.results.Error\u001b[0m\u001b[39m object at \u001b[0m\u001b[1;36m0x12a644950\u001b[0m\u001b[1m>\u001b[0m\n",
       "\u001b[4;94mhttp://netdrms01.nispdc.nso.edu/cgi-bin/netdrms/drms_export.cgi?\u001b[0m\u001b[4;94mseries\u001b[0m\u001b[4;94m=\u001b[0m\u001b[4;94mhmi__Ic_45s\u001b[0m\u001b[4;94m;\u001b[0m\u001b[4;94mcompress\u001b[0m\u001b[4;94m=\u001b[0m\u001b[4;94mrice\u001b[0m\u001b[4;94m;\u001b[0m\u001b[4;94mrecord\u001b[0m\u001b[4;94m=\u001b[0m\u001b[4;94m15081522\u001b[0m\u001b[4;94m-15081522,\u001b[0m\n",
       "Server disconnected,\n",
       "    \u001b[1m<\u001b[0m\u001b[1;95mparfive.results.Error\u001b[0m\u001b[39m object at \u001b[0m\u001b[1;36m0x12a806b10\u001b[0m\u001b[1m>\u001b[0m\n",
       "\u001b[4;94mhttp://netdrms01.nispdc.nso.edu/cgi-bin/netdrms/drms_export.cgi?\u001b[0m\u001b[4;94mseries\u001b[0m\u001b[4;94m=\u001b[0m\u001b[4;94mhmi__Ic_45s\u001b[0m\u001b[4;94m;\u001b[0m\u001b[4;94mcompress\u001b[0m\u001b[4;94m=\u001b[0m\u001b[4;94mrice\u001b[0m\u001b[4;94m;\u001b[0m\u001b[4;94mrecord\u001b[0m\u001b[4;94m=\u001b[0m\u001b[4;94m15083642\u001b[0m\u001b[4;94m-15083642,\u001b[0m\n",
       "Server disconnected,\n",
       "    \u001b[1m<\u001b[0m\u001b[1;95mparfive.results.Error\u001b[0m\u001b[39m object at \u001b[0m\u001b[1;36m0x12a986b60\u001b[0m\u001b[1m>\u001b[0m\n",
       "\u001b[4;94mhttp://netdrms01.nispdc.nso.edu/cgi-bin/netdrms/drms_export.cgi?\u001b[0m\u001b[4;94mseries\u001b[0m\u001b[4;94m=\u001b[0m\u001b[4;94mhmi__Ic_45s\u001b[0m\u001b[4;94m;\u001b[0m\u001b[4;94mcompress\u001b[0m\u001b[4;94m=\u001b[0m\u001b[4;94mrice\u001b[0m\u001b[4;94m;\u001b[0m\u001b[4;94mrecord\u001b[0m\u001b[4;94m=\u001b[0m\u001b[4;94m15086762\u001b[0m\u001b[4;94m-15086762,\u001b[0m\n",
       "Server disconnected,\n",
       "    \u001b[1m<\u001b[0m\u001b[1;95mparfive.results.Error\u001b[0m\u001b[39m object at \u001b[0m\u001b[1;36m0x12b263470\u001b[0m\u001b[1m>\u001b[0m\n",
       "\u001b[4;94mhttp://netdrms01.nispdc.nso.edu/cgi-bin/netdrms/drms_export.cgi?\u001b[0m\u001b[4;94mseries\u001b[0m\u001b[4;94m=\u001b[0m\u001b[4;94mhmi__Ic_45s\u001b[0m\u001b[4;94m;\u001b[0m\u001b[4;94mcompress\u001b[0m\u001b[4;94m=\u001b[0m\u001b[4;94mrice\u001b[0m\u001b[4;94m;\u001b[0m\u001b[4;94mrecord\u001b[0m\u001b[4;94m=\u001b[0m\u001b[4;94m15088122\u001b[0m\u001b[4;94m-15088122,\u001b[0m\n",
       "Server disconnected,\n",
       "    \u001b[1m<\u001b[0m\u001b[1;95mparfive.results.Error\u001b[0m\u001b[39m object at \u001b[0m\u001b[1;36m0x12c03ede0\u001b[0m\u001b[1m>\u001b[0m\n",
       "\u001b[4;94mhttp://netdrms01.nispdc.nso.edu/cgi-bin/netdrms/drms_export.cgi?\u001b[0m\u001b[4;94mseries\u001b[0m\u001b[4;94m=\u001b[0m\u001b[4;94mhmi__Ic_45s\u001b[0m\u001b[4;94m;\u001b[0m\u001b[4;94mcompress\u001b[0m\u001b[4;94m=\u001b[0m\u001b[4;94mrice\u001b[0m\u001b[4;94m;\u001b[0m\u001b[4;94mrecord\u001b[0m\u001b[4;94m=\u001b[0m\u001b[4;94m15088762\u001b[0m\u001b[4;94m-15088762,\u001b[0m\n",
       "Server disconnected,\n",
       "    \u001b[1m<\u001b[0m\u001b[1;95mparfive.results.Error\u001b[0m\u001b[39m object at \u001b[0m\u001b[1;36m0x12bc42ed0\u001b[0m\u001b[1m>\u001b[0m\n",
       "\u001b[4;94mhttp://netdrms01.nispdc.nso.edu/cgi-bin/netdrms/drms_export.cgi?\u001b[0m\u001b[4;94mseries\u001b[0m\u001b[4;94m=\u001b[0m\u001b[4;94mhmi__Ic_45s\u001b[0m\u001b[4;94m;\u001b[0m\u001b[4;94mcompress\u001b[0m\u001b[4;94m=\u001b[0m\u001b[4;94mrice\u001b[0m\u001b[4;94m;\u001b[0m\u001b[4;94mrecord\u001b[0m\u001b[4;94m=\u001b[0m\u001b[4;94m15089162\u001b[0m\u001b[4;94m-15089162,\u001b[0m\n",
       "Server disconnected\n",
       "\u001b[1m]\u001b[0m\n"
      ]
     },
     "metadata": {},
     "output_type": "display_data"
    }
   ],
   "source": [
    "downloads.errors"
   ]
  },
  {
   "cell_type": "code",
   "execution_count": 90,
   "metadata": {
    "tags": []
   },
   "outputs": [
    {
     "name": "stdout",
     "output_type": "stream",
     "text": [
      "6\n"
     ]
    }
   ],
   "source": [
    "print(len(downloads.errors))"
   ]
  },
  {
   "cell_type": "code",
   "execution_count": 91,
   "metadata": {},
   "outputs": [
    {
     "data": {
      "application/vnd.jupyter.widget-view+json": {
       "model_id": "a38f57397efc431881ff829087c15858",
       "version_major": 2,
       "version_minor": 0
      },
      "text/plain": [
       "Files Downloaded:   0%|          | 0/6 [00:00<?, ?file/s]"
      ]
     },
     "metadata": {},
     "output_type": "display_data"
    },
    {
     "data": {
      "application/vnd.jupyter.widget-view+json": {
       "model_id": "",
       "version_major": 2,
       "version_minor": 0
      },
      "text/plain": [
       "hmi_ic_45s_2014_07_07_16_31_30_tai_continuum.fits:   0%|          | 0.00/15.6M [00:00<?, ?B/s]"
      ]
     },
     "metadata": {},
     "output_type": "display_data"
    },
    {
     "data": {
      "application/vnd.jupyter.widget-view+json": {
       "model_id": "",
       "version_major": 2,
       "version_minor": 0
      },
      "text/plain": [
       "hmi_ic_45s_2014_07_04_23_01_30_tai_continuum.fits:   0%|          | 0.00/15.5M [00:00<?, ?B/s]"
      ]
     },
     "metadata": {},
     "output_type": "display_data"
    },
    {
     "data": {
      "application/vnd.jupyter.widget-view+json": {
       "model_id": "",
       "version_major": 2,
       "version_minor": 0
      },
      "text/plain": [
       "hmi_ic_45s_2014_07_08_17_31_30_tai_continuum.fits:   0%|          | 0.00/15.6M [00:00<?, ?B/s]"
      ]
     },
     "metadata": {},
     "output_type": "display_data"
    },
    {
     "data": {
      "application/vnd.jupyter.widget-view+json": {
       "model_id": "",
       "version_major": 2,
       "version_minor": 0
      },
      "text/plain": [
       "hmi_ic_45s_2014_07_08_09_31_30_tai_continuum.fits:   0%|          | 0.00/15.6M [00:00<?, ?B/s]"
      ]
     },
     "metadata": {},
     "output_type": "display_data"
    },
    {
     "data": {
      "application/vnd.jupyter.widget-view+json": {
       "model_id": "",
       "version_major": 2,
       "version_minor": 0
      },
      "text/plain": [
       "hmi_ic_45s_2014_07_08_22_31_30_tai_continuum.fits:   0%|          | 0.00/15.5M [00:00<?, ?B/s]"
      ]
     },
     "metadata": {},
     "output_type": "display_data"
    },
    {
     "data": {
      "application/vnd.jupyter.widget-view+json": {
       "model_id": "",
       "version_major": 2,
       "version_minor": 0
      },
      "text/plain": [
       "hmi_ic_45s_2014_07_06_01_31_30_tai_continuum.fits:   0%|          | 0.00/15.5M [00:00<?, ?B/s]"
      ]
     },
     "metadata": {},
     "output_type": "display_data"
    }
   ],
   "source": [
    "downloads = Fido.fetch(downloads)"
   ]
  },
  {
   "cell_type": "code",
   "execution_count": 6,
   "metadata": {},
   "outputs": [],
   "source": [
    "# %%time\n",
    "# for key, value in datasets.items():\n",
    "\n",
    "#     start_time = datasets[key][\"start_time\"]\n",
    "#     end_time = datasets[key][\"end_time\"]\n",
    "#     interval = datasets[key][\"interval\"]\n",
    "\n",
    "#     results = Fido.search(\n",
    "#         a.Time(start_time, end_time),\n",
    "#         a.Instrument.hmi,\n",
    "#         a.Physobs.intensity,\n",
    "#         a.Sample(interval * u.minute),\n",
    "#     )\n",
    "#     downloads = Fido.fetch(results, path=f\"../data/01_raw/{key}\")"
   ]
  },
  {
   "cell_type": "code",
   "execution_count": null,
   "metadata": {},
   "outputs": [],
   "source": []
  }
 ],
 "metadata": {
  "kernelspec": {
   "display_name": "Python 3 (ipykernel)",
   "language": "python",
   "name": "python3"
  },
  "language_info": {
   "codemirror_mode": {
    "name": "ipython",
    "version": 3
   },
   "file_extension": ".py",
   "mimetype": "text/x-python",
   "name": "python",
   "nbconvert_exporter": "python",
   "pygments_lexer": "ipython3",
   "version": "3.10.6"
  },
  "vscode": {
   "interpreter": {
    "hash": "64929b1f33ec7fbfda1669a0433787fb61dd1cd7ee4c8a5d3fc0bca90519ecec"
   }
  }
 },
 "nbformat": 4,
 "nbformat_minor": 4
}
